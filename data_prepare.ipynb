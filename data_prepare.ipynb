{
 "cells": [
  {
   "cell_type": "code",
   "execution_count": 33,
   "metadata": {},
   "outputs": [],
   "source": [
    "import numpy as np\n",
    "import matplotlib.pyplot as ply\n",
    "import pandas as pd\n",
    "import seaborn as sns"
   ]
  },
  {
   "cell_type": "code",
   "execution_count": 34,
   "metadata": {},
   "outputs": [],
   "source": [
    "lines = []\n",
    "with open(\"Dane\\wind_5min_shifted_all_1.lst\", \"r\") as file:\n",
    "  for line in file:\n",
    "    lines.append(line.split())"
   ]
  },
  {
   "cell_type": "code",
   "execution_count": 35,
   "metadata": {},
   "outputs": [],
   "source": [
    "headers = []\n",
    "with open(\"Dane\\wind_5min_shifted_all_1.fmt\", \"r\") as file:\n",
    "  for header in file:\n",
    "    headers.append(header.split()[1:2])\n"
   ]
  },
  {
   "cell_type": "code",
   "execution_count": 36,
   "metadata": {},
   "outputs": [
    {
     "name": "stdout",
     "output_type": "stream",
     "text": [
      "[['2017', '1', '0', '0', '2806', '7.31', '-5.90', '-0.82', '-3.74', '0.17', '-3.82', '1414', '0.63', '1.38', '546.5', '-544.9', '40.7', '-9.6', '7.81', '164969.', '197.07', '54.59', '-11.40', '11.07', '-1.45', '0.19'], ['2017', '1', '0', '5', '2306', '6.99', '-5.92', '-0.97', '-2.92', '-0.19', '-3.07', '208', '0.15', '1.15', '550.9', '-548.5', '49.5', '-7.1', '7.52', '166973.', '197.07', '54.65', '-11.40', '11.24', '-1.62', '0.17'], ['2017', '1', '0', '10', '2111', '7.09', '-5.86', '-2.06', '-3.06', '-1.21', '-3.48', '1064', '0.59', '1.01', '552.1', '-550.2', '45.3', '-9.2', '7.16', '131817.', '197.07', '54.62', '-11.40', '11.19', '-1.54', '0.15'], ['2017', '1', '0', '15', '2196', '7.04', '-6.16', '0.27', '-2.38', '0.87', '-2.23', '557', '0.27', '1.33', '550.1', '-548.9', '30.3', '-13.4', '7.07', '141558.', '197.07', '54.64', '-11.40', '11.40', '-1.28', '0.25'], ['2017', '1', '0', '20', '1809', '7.05', '-6.25', '-0.06', '-2.17', '0.50', '-2.12', '454', '0.24', '1.33', '544.8', '-543.1', '38.6', '-10.9', '6.88', '134118.', '197.07', '54.68', '-11.40', '11.47', '-1.50', '0.23']]\n"
     ]
    }
   ],
   "source": [
    "print(lines[0:5])"
   ]
  },
  {
   "cell_type": "code",
   "execution_count": 46,
   "metadata": {},
   "outputs": [],
   "source": [
    "data_frame = pd.DataFrame(lines, columns=[\"Year\",\n",
    "                                            \"Day\",\n",
    "                                            \"Hour\",\n",
    "                                            \"Minute\",\n",
    "                                            \"Timeshift\",\n",
    "                                            \"Scalar_B\",\n",
    "                                            \"BX(GSE)\",\n",
    "                                            \"BY(GSE)\",\n",
    "                                            \"BZ(GSE)\",\n",
    "                                            \"BY(GSM)\",\n",
    "                                            \"BZ(GSM)\" ,\n",
    "                                            \"RMS(timeshift)\",\n",
    "                                            \"RMS(Phase_frnt_nrml)\",\n",
    "                                            \"RMS(Field_vector)\",\n",
    "                                            \"Flow_speed\",\n",
    "                                            \"Vx\",\n",
    "                                            \"Vy\",\n",
    "                                            \"Vz\",\n",
    "                                            \"Proton_Density\",\n",
    "                                            \"Temperature\",\n",
    "                                            \"X(s/c)\",\n",
    "                                            \"Y(s/c)\",\n",
    "                                            \"Z(s/c)\",\n",
    "                                            \"X(target)\",\n",
    "                                            \"Y(target)\",\n",
    "                                            \"Z(target)\"], dtype=float)"
   ]
  },
  {
   "cell_type": "code",
   "execution_count": 47,
   "metadata": {},
   "outputs": [
    {
     "data": {
      "text/html": [
       "<div>\n",
       "<style scoped>\n",
       "    .dataframe tbody tr th:only-of-type {\n",
       "        vertical-align: middle;\n",
       "    }\n",
       "\n",
       "    .dataframe tbody tr th {\n",
       "        vertical-align: top;\n",
       "    }\n",
       "\n",
       "    .dataframe thead th {\n",
       "        text-align: right;\n",
       "    }\n",
       "</style>\n",
       "<table border=\"1\" class=\"dataframe\">\n",
       "  <thead>\n",
       "    <tr style=\"text-align: right;\">\n",
       "      <th></th>\n",
       "      <th>Year</th>\n",
       "      <th>Day</th>\n",
       "      <th>Hour</th>\n",
       "      <th>Minute</th>\n",
       "      <th>Timeshift</th>\n",
       "      <th>Scalar_B</th>\n",
       "      <th>BX(GSE)</th>\n",
       "      <th>BY(GSE)</th>\n",
       "      <th>BZ(GSE)</th>\n",
       "      <th>BY(GSM)</th>\n",
       "      <th>...</th>\n",
       "      <th>Vy</th>\n",
       "      <th>Vz</th>\n",
       "      <th>Proton_Density</th>\n",
       "      <th>Temperature</th>\n",
       "      <th>X(s/c)</th>\n",
       "      <th>Y(s/c)</th>\n",
       "      <th>Z(s/c)</th>\n",
       "      <th>X(target)</th>\n",
       "      <th>Y(target)</th>\n",
       "      <th>Z(target)</th>\n",
       "    </tr>\n",
       "  </thead>\n",
       "  <tbody>\n",
       "    <tr>\n",
       "      <th>0</th>\n",
       "      <td>2017.0</td>\n",
       "      <td>1.0</td>\n",
       "      <td>0.0</td>\n",
       "      <td>0.0</td>\n",
       "      <td>2806.0</td>\n",
       "      <td>7.31</td>\n",
       "      <td>-5.90</td>\n",
       "      <td>-0.82</td>\n",
       "      <td>-3.74</td>\n",
       "      <td>0.17</td>\n",
       "      <td>...</td>\n",
       "      <td>40.7</td>\n",
       "      <td>-9.6</td>\n",
       "      <td>7.81</td>\n",
       "      <td>164969.0</td>\n",
       "      <td>197.07</td>\n",
       "      <td>54.59</td>\n",
       "      <td>-11.4</td>\n",
       "      <td>11.07</td>\n",
       "      <td>-1.45</td>\n",
       "      <td>0.19</td>\n",
       "    </tr>\n",
       "    <tr>\n",
       "      <th>1</th>\n",
       "      <td>2017.0</td>\n",
       "      <td>1.0</td>\n",
       "      <td>0.0</td>\n",
       "      <td>5.0</td>\n",
       "      <td>2306.0</td>\n",
       "      <td>6.99</td>\n",
       "      <td>-5.92</td>\n",
       "      <td>-0.97</td>\n",
       "      <td>-2.92</td>\n",
       "      <td>-0.19</td>\n",
       "      <td>...</td>\n",
       "      <td>49.5</td>\n",
       "      <td>-7.1</td>\n",
       "      <td>7.52</td>\n",
       "      <td>166973.0</td>\n",
       "      <td>197.07</td>\n",
       "      <td>54.65</td>\n",
       "      <td>-11.4</td>\n",
       "      <td>11.24</td>\n",
       "      <td>-1.62</td>\n",
       "      <td>0.17</td>\n",
       "    </tr>\n",
       "    <tr>\n",
       "      <th>2</th>\n",
       "      <td>2017.0</td>\n",
       "      <td>1.0</td>\n",
       "      <td>0.0</td>\n",
       "      <td>10.0</td>\n",
       "      <td>2111.0</td>\n",
       "      <td>7.09</td>\n",
       "      <td>-5.86</td>\n",
       "      <td>-2.06</td>\n",
       "      <td>-3.06</td>\n",
       "      <td>-1.21</td>\n",
       "      <td>...</td>\n",
       "      <td>45.3</td>\n",
       "      <td>-9.2</td>\n",
       "      <td>7.16</td>\n",
       "      <td>131817.0</td>\n",
       "      <td>197.07</td>\n",
       "      <td>54.62</td>\n",
       "      <td>-11.4</td>\n",
       "      <td>11.19</td>\n",
       "      <td>-1.54</td>\n",
       "      <td>0.15</td>\n",
       "    </tr>\n",
       "    <tr>\n",
       "      <th>3</th>\n",
       "      <td>2017.0</td>\n",
       "      <td>1.0</td>\n",
       "      <td>0.0</td>\n",
       "      <td>15.0</td>\n",
       "      <td>2196.0</td>\n",
       "      <td>7.04</td>\n",
       "      <td>-6.16</td>\n",
       "      <td>0.27</td>\n",
       "      <td>-2.38</td>\n",
       "      <td>0.87</td>\n",
       "      <td>...</td>\n",
       "      <td>30.3</td>\n",
       "      <td>-13.4</td>\n",
       "      <td>7.07</td>\n",
       "      <td>141558.0</td>\n",
       "      <td>197.07</td>\n",
       "      <td>54.64</td>\n",
       "      <td>-11.4</td>\n",
       "      <td>11.40</td>\n",
       "      <td>-1.28</td>\n",
       "      <td>0.25</td>\n",
       "    </tr>\n",
       "    <tr>\n",
       "      <th>4</th>\n",
       "      <td>2017.0</td>\n",
       "      <td>1.0</td>\n",
       "      <td>0.0</td>\n",
       "      <td>20.0</td>\n",
       "      <td>1809.0</td>\n",
       "      <td>7.05</td>\n",
       "      <td>-6.25</td>\n",
       "      <td>-0.06</td>\n",
       "      <td>-2.17</td>\n",
       "      <td>0.50</td>\n",
       "      <td>...</td>\n",
       "      <td>38.6</td>\n",
       "      <td>-10.9</td>\n",
       "      <td>6.88</td>\n",
       "      <td>134118.0</td>\n",
       "      <td>197.07</td>\n",
       "      <td>54.68</td>\n",
       "      <td>-11.4</td>\n",
       "      <td>11.47</td>\n",
       "      <td>-1.50</td>\n",
       "      <td>0.23</td>\n",
       "    </tr>\n",
       "  </tbody>\n",
       "</table>\n",
       "<p>5 rows × 26 columns</p>\n",
       "</div>"
      ],
      "text/plain": [
       "     Year  Day  Hour  Minute  Timeshift  Scalar_B  BX(GSE)  BY(GSE)  BZ(GSE)  \\\n",
       "0  2017.0  1.0   0.0     0.0     2806.0      7.31    -5.90    -0.82    -3.74   \n",
       "1  2017.0  1.0   0.0     5.0     2306.0      6.99    -5.92    -0.97    -2.92   \n",
       "2  2017.0  1.0   0.0    10.0     2111.0      7.09    -5.86    -2.06    -3.06   \n",
       "3  2017.0  1.0   0.0    15.0     2196.0      7.04    -6.16     0.27    -2.38   \n",
       "4  2017.0  1.0   0.0    20.0     1809.0      7.05    -6.25    -0.06    -2.17   \n",
       "\n",
       "   BY(GSM)  ...    Vy    Vz  Proton_Density  Temperature  X(s/c)  Y(s/c)  \\\n",
       "0     0.17  ...  40.7  -9.6            7.81     164969.0  197.07   54.59   \n",
       "1    -0.19  ...  49.5  -7.1            7.52     166973.0  197.07   54.65   \n",
       "2    -1.21  ...  45.3  -9.2            7.16     131817.0  197.07   54.62   \n",
       "3     0.87  ...  30.3 -13.4            7.07     141558.0  197.07   54.64   \n",
       "4     0.50  ...  38.6 -10.9            6.88     134118.0  197.07   54.68   \n",
       "\n",
       "   Z(s/c)  X(target)  Y(target)  Z(target)  \n",
       "0   -11.4      11.07      -1.45       0.19  \n",
       "1   -11.4      11.24      -1.62       0.17  \n",
       "2   -11.4      11.19      -1.54       0.15  \n",
       "3   -11.4      11.40      -1.28       0.25  \n",
       "4   -11.4      11.47      -1.50       0.23  \n",
       "\n",
       "[5 rows x 26 columns]"
      ]
     },
     "execution_count": 47,
     "metadata": {},
     "output_type": "execute_result"
    }
   ],
   "source": [
    "data_frame.head()"
   ]
  },
  {
   "cell_type": "code",
   "execution_count": 48,
   "metadata": {},
   "outputs": [
    {
     "data": {
      "text/plain": [
       "Year                    float64\n",
       "Day                     float64\n",
       "Hour                    float64\n",
       "Minute                  float64\n",
       "Timeshift               float64\n",
       "Scalar_B                float64\n",
       "BX(GSE)                 float64\n",
       "BY(GSE)                 float64\n",
       "BZ(GSE)                 float64\n",
       "BY(GSM)                 float64\n",
       "BZ(GSM)                 float64\n",
       "RMS(timeshift)          float64\n",
       "RMS(Phase_frnt_nrml)    float64\n",
       "RMS(Field_vector)       float64\n",
       "Flow_speed              float64\n",
       "Vx                      float64\n",
       "Vy                      float64\n",
       "Vz                      float64\n",
       "Proton_Density          float64\n",
       "Temperature             float64\n",
       "X(s/c)                  float64\n",
       "Y(s/c)                  float64\n",
       "Z(s/c)                  float64\n",
       "X(target)               float64\n",
       "Y(target)               float64\n",
       "Z(target)               float64\n",
       "dtype: object"
      ]
     },
     "execution_count": 48,
     "metadata": {},
     "output_type": "execute_result"
    }
   ],
   "source": [
    "data_frame.dtypes"
   ]
  },
  {
   "cell_type": "code",
   "execution_count": 38,
   "metadata": {},
   "outputs": [],
   "source": [
    "data = np.array(lines)"
   ]
  },
  {
   "cell_type": "code",
   "execution_count": 49,
   "metadata": {},
   "outputs": [
    {
     "data": {
      "text/plain": [
       "<Axes: >"
      ]
     },
     "execution_count": 49,
     "metadata": {},
     "output_type": "execute_result"
    }
   ],
   "source": [
    "sns.heatmap(data_frame, annot=True)"
   ]
  },
  {
   "cell_type": "markdown",
   "metadata": {},
   "source": [
    "Day\n",
    "Hour\n",
    "Minute\n",
    "Timeshift\n",
    "Scalar_B\n",
    "BX(GSE)\n",
    "BY(GSE)\n",
    "BZ(GSE)\n",
    "BY(GSM) \n",
    "BZ(GSM) \n",
    "RMS(timeshift)\n",
    "RMS(Phase_frnt_nrml)\n",
    "RMS(Field_vector)\n",
    "Flow_speed\n",
    "Vx\n",
    "Vy\n",
    "Vz\n",
    "Proton_Density\n",
    "Temperature\n",
    "X(s/c)\n",
    "Y(s/c)\n",
    "Z(s/c)\n",
    "X(target)\n",
    "Y(target)\n",
    "Z(target)"
   ]
  },
  {
   "cell_type": "code",
   "execution_count": null,
   "metadata": {},
   "outputs": [],
   "source": []
  }
 ],
 "metadata": {
  "kernelspec": {
   "display_name": "p39_sklearn",
   "language": "python",
   "name": "python3"
  },
  "language_info": {
   "codemirror_mode": {
    "name": "ipython",
    "version": 3
   },
   "file_extension": ".py",
   "mimetype": "text/x-python",
   "name": "python",
   "nbconvert_exporter": "python",
   "pygments_lexer": "ipython3",
   "version": "3.9.11"
  }
 },
 "nbformat": 4,
 "nbformat_minor": 2
}
